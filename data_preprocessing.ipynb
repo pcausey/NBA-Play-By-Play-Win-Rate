{
 "cells": [
  {
   "cell_type": "code",
   "execution_count": 1,
   "metadata": {},
   "outputs": [],
   "source": [
    "import os\n",
    "\n",
    "import numpy as np\n",
    "import pandas as pd\n",
    "import pyspark.sql.functions as F\n",
    "import regex as re\n",
    "\n",
    "from IPython.display import display\n",
    "from pyspark.sql import SparkSession\n",
    "from pyspark.sql.types import *\n",
    "from typing import *"
   ]
  },
  {
   "cell_type": "code",
   "execution_count": 2,
   "metadata": {},
   "outputs": [],
   "source": [
    "spark = SparkSession \\\n",
    "    .builder \\\n",
    "    .appName('group2nba') \\\n",
    "    .getOrCreate()"
   ]
  },
  {
   "cell_type": "code",
   "execution_count": 15,
   "metadata": {},
   "outputs": [],
   "source": [
    "path_main = '/project/ds5559/group2nba'\n",
    "path_data = 'NBA_PBP_2020-21'\n",
    "data_type = 'test'\n",
    "\n",
    "# train: 'NBA_PBP_201[0-8]-1[0-9]'\n",
    "# valid: 'NBA_PBP_2019-20'\n",
    "# test: 'NBA_PBP_2020-21'\n",
    "\n",
    "T = TypeVar('T')"
   ]
  },
  {
   "cell_type": "code",
   "execution_count": 4,
   "metadata": {},
   "outputs": [],
   "source": [
    "class DataField():\n",
    "    __slots__ = [\n",
    "          'DataType'\n",
    "        , 'CleanFunction'\n",
    "    ]\n",
    "    \n",
    "    def __init__(self, DataType: T, CleanFunction: F.udf):\n",
    "        self.DataType = DataType\n",
    "        self.CleanFunction = CleanFunction"
   ]
  },
  {
   "cell_type": "code",
   "execution_count": 5,
   "metadata": {},
   "outputs": [],
   "source": [
    "@F.udf(StringType())\n",
    "def clean_date(val: str) -> str:\n",
    "    '''Cleans: datetime, no validation'''\n",
    "    try:\n",
    "        return val\n",
    "    except:\n",
    "        return None\n",
    "    \n",
    "    \n",
    "@F.udf(StringType())\n",
    "def clean_gametype(val: str) -> str:\n",
    "    '''Cleans: GameType'''\n",
    "    try:\n",
    "        val = val.lower()\n",
    "        return val if val in 'regular,playoff' else None\n",
    "    except:\n",
    "        return None\n",
    "    \n",
    "    \n",
    "@F.udf(IntegerType())\n",
    "def clean_int(val: int) -> int:\n",
    "    '''Cleans: Integer values'''\n",
    "    try:\n",
    "        return val\n",
    "    except:\n",
    "        return None\n",
    "    \n",
    "    \n",
    "@F.udf(IntegerType())\n",
    "def clean_reboundtype(val: str) -> str:\n",
    "    '''Cleans: ReboundType, converts to bit'''\n",
    "    try:\n",
    "        return int(val.lwoer() == 'offensive')\n",
    "    except:\n",
    "        return None\n",
    "    \n",
    "\n",
    "@F.udf(StringType())\n",
    "def clean_shottype(val: str) -> str:\n",
    "    '''Cleans: ShotType'''\n",
    "    try:\n",
    "        return handle_pattern(r'[23][-]pt (?:[a-z]+\\s?)+', val)\n",
    "    except:\n",
    "        return None\n",
    "    \n",
    "\n",
    "@F.udf(IntegerType())\n",
    "def clean_shotoutcome(val: str) -> int:\n",
    "    '''Cleans: shot attempts, converts to bit'''\n",
    "    try:\n",
    "        return int(val.lower() == 'make')\n",
    "    except:\n",
    "        return None\n",
    "    \n",
    "\n",
    "@F.udf(StringType())\n",
    "def clean_str(val: str) -> str:\n",
    "    '''Cleans: generic string, no validation'''\n",
    "    try:\n",
    "        return val\n",
    "    except:\n",
    "        return None\n",
    "    \n",
    "    \n",
    "@F.udf(StringType())\n",
    "def clean_team(val: str) -> str:\n",
    "    '''Cleans: team fields'''\n",
    "    try:\n",
    "        return val if re.match(r'[A-Z]{3}', val) else None\n",
    "    except:\n",
    "        return None"
   ]
  },
  {
   "cell_type": "code",
   "execution_count": 6,
   "metadata": {},
   "outputs": [],
   "source": [
    "DATA_PATHES = {\n",
    "      'train': 'clean_train_data'\n",
    "    , 'valid': 'clean_valid_data'\n",
    "    , 'test': 'clean_test_data'\n",
    "}"
   ]
  },
  {
   "cell_type": "code",
   "execution_count": 7,
   "metadata": {},
   "outputs": [],
   "source": [
    "FIELDS = {\n",
    "      'Url': DataField(StringType, clean_str)\n",
    "    , 'GameType': DataField(StringType, clean_gametype)\n",
    "    , 'Location': DataField(StringType, clean_str)\n",
    "    , 'Date': DataField(StringType, clean_date)\n",
    "    , 'Time': DataField(StringType, clean_str)\n",
    "    , 'WinningTeam': DataField(StringType, clean_team)\n",
    "    , 'Quarter': DataField(IntegerType, clean_int)\n",
    "    , 'SecLeft': DataField(IntegerType, clean_int)\n",
    "    , 'AwayTeam': DataField(StringType, clean_team)\n",
    "    , 'AwayPlay': DataField(StringType, clean_str)\n",
    "    , 'AwayScore': DataField(IntegerType, clean_int)\n",
    "    , 'HomeTeam': DataField(StringType, clean_team)\n",
    "    , 'HomePlay': DataField(StringType, clean_str)\n",
    "    , 'HomeScore': DataField(IntegerType, clean_int)\n",
    "    , 'Shooter': DataField(StringType, clean_str)\n",
    "    , 'ShotType': DataField(StringType, clean_shottype)\n",
    "    , 'ShotOutcome': DataField(StringType, clean_shotoutcome)\n",
    "    , 'ShotDist': DataField(IntegerType, clean_int)\n",
    "    , 'Assister': DataField(StringType, clean_str)\n",
    "    , 'Blocker': DataField(StringType, clean_str)\n",
    "    , 'FoulType': DataField(StringType, clean_str)\n",
    "    , 'Fouler': DataField(StringType, clean_str)\n",
    "    , 'Fouled': DataField(StringType, clean_str)\n",
    "    , 'Rebounder': DataField(StringType, clean_str)\n",
    "    , 'ReboundType': DataField(StringType, clean_reboundtype)\n",
    "    , 'ViolationPlayer': DataField(StringType, clean_str)\n",
    "    , 'ViolationType': DataField(StringType, clean_str)\n",
    "    , 'TimeoutTeam': DataField(StringType, clean_team)\n",
    "    , 'FreeThrowShooter': DataField(StringType, clean_str)\n",
    "    , 'FreeThrowOutcome': DataField(StringType, clean_shotoutcome)\n",
    "    , 'FreeThrowNum': DataField(StringType, clean_str)\n",
    "    , 'EnterGame': DataField(StringType, clean_str)\n",
    "    , 'LeaveGame': DataField(StringType, clean_str)\n",
    "    , 'TurnoverPlayer': DataField(StringType, clean_str)\n",
    "    , 'TurnoverType': DataField(StringType, clean_str)\n",
    "    , 'TurnoverCause': DataField(StringType, clean_str)\n",
    "    , 'TurnoverCauser': DataField(StringType, clean_str)\n",
    "    , 'JumpballAwayPlayer': DataField(StringType, clean_str)\n",
    "    , 'JumpballHomePlayer': DataField(StringType, clean_str)\n",
    "    , 'JumpballPoss': DataField(StringType, clean_str)\n",
    "}"
   ]
  },
  {
   "cell_type": "code",
   "execution_count": 16,
   "metadata": {},
   "outputs": [
    {
     "data": {
      "text/plain": [
       "97673"
      ]
     },
     "metadata": {},
     "output_type": "display_data"
    },
    {
     "name": "stdout",
     "output_type": "stream",
     "text": [
      "root\n",
      " |-- Url: string (nullable = true)\n",
      " |-- GameType: string (nullable = true)\n",
      " |-- Location: string (nullable = true)\n",
      " |-- Date: string (nullable = true)\n",
      " |-- Time: string (nullable = true)\n",
      " |-- WinningTeam: string (nullable = true)\n",
      " |-- Quarter: integer (nullable = true)\n",
      " |-- SecLeft: integer (nullable = true)\n",
      " |-- AwayTeam: string (nullable = true)\n",
      " |-- AwayPlay: string (nullable = true)\n",
      " |-- AwayScore: integer (nullable = true)\n",
      " |-- HomeTeam: string (nullable = true)\n",
      " |-- HomePlay: string (nullable = true)\n",
      " |-- HomeScore: integer (nullable = true)\n",
      " |-- Shooter: string (nullable = true)\n",
      " |-- ShotType: string (nullable = true)\n",
      " |-- ShotOutcome: string (nullable = true)\n",
      " |-- ShotDist: integer (nullable = true)\n",
      " |-- Assister: string (nullable = true)\n",
      " |-- Blocker: string (nullable = true)\n",
      " |-- FoulType: string (nullable = true)\n",
      " |-- Fouler: string (nullable = true)\n",
      " |-- Fouled: string (nullable = true)\n",
      " |-- Rebounder: string (nullable = true)\n",
      " |-- ReboundType: string (nullable = true)\n",
      " |-- ViolationPlayer: string (nullable = true)\n",
      " |-- ViolationType: string (nullable = true)\n",
      " |-- TimeoutTeam: string (nullable = true)\n",
      " |-- FreeThrowShooter: string (nullable = true)\n",
      " |-- FreeThrowOutcome: string (nullable = true)\n",
      " |-- FreeThrowNum: string (nullable = true)\n",
      " |-- EnterGame: string (nullable = true)\n",
      " |-- LeaveGame: string (nullable = true)\n",
      " |-- TurnoverPlayer: string (nullable = true)\n",
      " |-- TurnoverType: string (nullable = true)\n",
      " |-- TurnoverCause: string (nullable = true)\n",
      " |-- TurnoverCauser: string (nullable = true)\n",
      " |-- JumpballAwayPlayer: string (nullable = true)\n",
      " |-- JumpballHomePlayer: string (nullable = true)\n",
      " |-- JumpballPoss: string (nullable = true)\n",
      "\n"
     ]
    },
    {
     "data": {
      "text/plain": [
       "None"
      ]
     },
     "metadata": {},
     "output_type": "display_data"
    },
    {
     "data": {
      "text/plain": [
       "[Row(Url='/boxscores/202012220BRK.html', GameType='regular', Location='Barclays Center Brooklyn New York', Date='December 22 2020', Time='7:00 PM', WinningTeam='BRK', Quarter=1, SecLeft=720, AwayTeam='GSW', AwayPlay='Jump ball: J. Wiseman vs. D. Jordan (J. Harris gains possession)', AwayScore=0, HomeTeam='BRK', HomePlay=None, HomeScore=0, Shooter=None, ShotType=None, ShotOutcome=None, ShotDist=None, Assister=None, Blocker=None, FoulType=None, Fouler=None, Fouled=None, Rebounder=None, ReboundType=None, ViolationPlayer=None, ViolationType=None, TimeoutTeam=None, FreeThrowShooter=None, FreeThrowOutcome=None, FreeThrowNum=None, EnterGame=None, LeaveGame=None, TurnoverPlayer=None, TurnoverType=None, TurnoverCause=None, TurnoverCauser=None, JumpballAwayPlayer='J. Wiseman - wisemja01', JumpballHomePlayer='D. Jordan - jordade01', JumpballPoss='J. Harris - harrijo01'),\n",
       " Row(Url='/boxscores/202012220BRK.html', GameType='regular', Location='Barclays Center Brooklyn New York', Date='December 22 2020', Time='7:00 PM', WinningTeam='BRK', Quarter=1, SecLeft=710, AwayTeam='GSW', AwayPlay=None, AwayScore=0, HomeTeam='BRK', HomePlay='Turnover by D. Jordan (bad pass)', HomeScore=0, Shooter=None, ShotType=None, ShotOutcome=None, ShotDist=None, Assister=None, Blocker=None, FoulType=None, Fouler=None, Fouled=None, Rebounder=None, ReboundType=None, ViolationPlayer=None, ViolationType=None, TimeoutTeam=None, FreeThrowShooter=None, FreeThrowOutcome=None, FreeThrowNum=None, EnterGame=None, LeaveGame=None, TurnoverPlayer='D. Jordan - jordade01', TurnoverType='bad pass', TurnoverCause=None, TurnoverCauser=None, JumpballAwayPlayer=None, JumpballHomePlayer=None, JumpballPoss=None)]"
      ]
     },
     "metadata": {},
     "output_type": "display_data"
    }
   ],
   "source": [
    "schema = StructType([StructField(k, v.DataType()) for k, v in FIELDS.items()])\n",
    "\n",
    "df = spark.read \\\n",
    "    .format('csv') \\\n",
    "    .option('header', True) \\\n",
    "    .schema(schema) \\\n",
    "    .load(f'{path_main}/raw_data/{path_data}.csv')\n",
    "\n",
    "display(df.count())\n",
    "display(df.printSchema())\n",
    "display(df.head(2))"
   ]
  },
  {
   "cell_type": "code",
   "execution_count": 17,
   "metadata": {},
   "outputs": [
    {
     "data": {
      "text/plain": [
       "97673"
      ]
     },
     "metadata": {},
     "output_type": "display_data"
    },
    {
     "name": "stdout",
     "output_type": "stream",
     "text": [
      "root\n",
      " |-- Url: string (nullable = true)\n",
      " |-- GameType: string (nullable = true)\n",
      " |-- Location: string (nullable = true)\n",
      " |-- Date: string (nullable = true)\n",
      " |-- Time: string (nullable = true)\n",
      " |-- WinningTeam: string (nullable = true)\n",
      " |-- Quarter: integer (nullable = true)\n",
      " |-- SecLeft: integer (nullable = true)\n",
      " |-- AwayTeam: string (nullable = true)\n",
      " |-- AwayPlay: string (nullable = true)\n",
      " |-- AwayScore: integer (nullable = true)\n",
      " |-- HomeTeam: string (nullable = true)\n",
      " |-- HomePlay: string (nullable = true)\n",
      " |-- HomeScore: integer (nullable = true)\n",
      " |-- Shooter: string (nullable = true)\n",
      " |-- ShotType: string (nullable = true)\n",
      " |-- ShotOutcome: integer (nullable = true)\n",
      " |-- ShotDist: integer (nullable = true)\n",
      " |-- Assister: string (nullable = true)\n",
      " |-- Blocker: string (nullable = true)\n",
      " |-- FoulType: string (nullable = true)\n",
      " |-- Fouler: string (nullable = true)\n",
      " |-- Fouled: string (nullable = true)\n",
      " |-- Rebounder: string (nullable = true)\n",
      " |-- ReboundType: integer (nullable = true)\n",
      " |-- ViolationPlayer: string (nullable = true)\n",
      " |-- ViolationType: string (nullable = true)\n",
      " |-- TimeoutTeam: string (nullable = true)\n",
      " |-- FreeThrowShooter: string (nullable = true)\n",
      " |-- FreeThrowOutcome: integer (nullable = true)\n",
      " |-- FreeThrowNum: string (nullable = true)\n",
      " |-- EnterGame: string (nullable = true)\n",
      " |-- LeaveGame: string (nullable = true)\n",
      " |-- TurnoverPlayer: string (nullable = true)\n",
      " |-- TurnoverType: string (nullable = true)\n",
      " |-- TurnoverCause: string (nullable = true)\n",
      " |-- TurnoverCauser: string (nullable = true)\n",
      " |-- JumpballAwayPlayer: string (nullable = true)\n",
      " |-- JumpballHomePlayer: string (nullable = true)\n",
      " |-- JumpballPoss: string (nullable = true)\n",
      "\n"
     ]
    },
    {
     "data": {
      "text/plain": [
       "None"
      ]
     },
     "metadata": {},
     "output_type": "display_data"
    },
    {
     "data": {
      "text/plain": [
       "[Row(Url='/boxscores/202012220BRK.html', GameType='regular', Location='Barclays Center Brooklyn New York', Date='December 22 2020', Time='7:00 PM', WinningTeam='BRK', Quarter=1, SecLeft=720, AwayTeam='GSW', AwayPlay='Jump ball: J. Wiseman vs. D. Jordan (J. Harris gains possession)', AwayScore=0, HomeTeam='BRK', HomePlay=None, HomeScore=0, Shooter=None, ShotType=None, ShotOutcome=None, ShotDist=None, Assister=None, Blocker=None, FoulType=None, Fouler=None, Fouled=None, Rebounder=None, ReboundType=None, ViolationPlayer=None, ViolationType=None, TimeoutTeam=None, FreeThrowShooter=None, FreeThrowOutcome=None, FreeThrowNum=None, EnterGame=None, LeaveGame=None, TurnoverPlayer=None, TurnoverType=None, TurnoverCause=None, TurnoverCauser=None, JumpballAwayPlayer='J. Wiseman - wisemja01', JumpballHomePlayer='D. Jordan - jordade01', JumpballPoss='J. Harris - harrijo01'),\n",
       " Row(Url='/boxscores/202012220BRK.html', GameType='regular', Location='Barclays Center Brooklyn New York', Date='December 22 2020', Time='7:00 PM', WinningTeam='BRK', Quarter=1, SecLeft=710, AwayTeam='GSW', AwayPlay=None, AwayScore=0, HomeTeam='BRK', HomePlay='Turnover by D. Jordan (bad pass)', HomeScore=0, Shooter=None, ShotType=None, ShotOutcome=None, ShotDist=None, Assister=None, Blocker=None, FoulType=None, Fouler=None, Fouled=None, Rebounder=None, ReboundType=None, ViolationPlayer=None, ViolationType=None, TimeoutTeam=None, FreeThrowShooter=None, FreeThrowOutcome=None, FreeThrowNum=None, EnterGame=None, LeaveGame=None, TurnoverPlayer='D. Jordan - jordade01', TurnoverType='bad pass', TurnoverCause=None, TurnoverCauser=None, JumpballAwayPlayer=None, JumpballHomePlayer=None, JumpballPoss=None)]"
      ]
     },
     "metadata": {},
     "output_type": "display_data"
    }
   ],
   "source": [
    "for k, v in FIELDS.items():\n",
    "    df = df.withColumn(k, v.CleanFunction(k))\n",
    "    \n",
    "display(df.count())\n",
    "display(df.printSchema())\n",
    "display(df.head(2))"
   ]
  },
  {
   "cell_type": "code",
   "execution_count": 18,
   "metadata": {},
   "outputs": [],
   "source": [
    "path_write = f'{path_main}/{DATA_PATHES[str.lower(data_type)]}'\n",
    "\n",
    "df.write.csv(f'{path_write}/clean_{len(os.listdir(path_write))}.csv')"
   ]
  }
 ],
 "metadata": {
  "kernelspec": {
   "display_name": "DS 5110 Spark 3.1",
   "language": "python",
   "name": "ds5110_spark3.1"
  },
  "language_info": {
   "codemirror_mode": {
    "name": "ipython",
    "version": 3
   },
   "file_extension": ".py",
   "mimetype": "text/x-python",
   "name": "python",
   "nbconvert_exporter": "python",
   "pygments_lexer": "ipython3",
   "version": "3.7.10"
  }
 },
 "nbformat": 4,
 "nbformat_minor": 4
}
