{
 "cells": [
  {
   "cell_type": "code",
   "execution_count": 2,
   "metadata": {},
   "outputs": [],
   "source": [
    "import os\n",
    "import pandas as pd\n",
    "\n",
    "from pyspark.sql import SparkSession\n",
    "spark = SparkSession.builder.getOrCreate()"
   ]
  },
  {
   "cell_type": "code",
   "execution_count": 4,
   "metadata": {},
   "outputs": [],
   "source": [
    "# read text file into pyspark dataframe\n",
    "filename = '/project/ds5559/group2nba/NBA_PBP_2015-16.csv'\n",
    "df = spark.read.csv(filename,  inferSchema=True, header = True)"
   ]
  },
  {
   "cell_type": "code",
   "execution_count": 5,
   "metadata": {},
   "outputs": [
    {
     "name": "stdout",
     "output_type": "stream",
     "text": [
      "+--------------------+--------+--------------------+---------------+-------+-----------+-------+-------+--------+--------------------+---------+--------+--------+---------+--------------------+----------+-----------+--------+--------+--------------------+--------+------+------+---------+-----------+---------------+-------------+-----------+----------------+----------------+------------+---------+---------+--------------+------------+-------------+--------------+--------------------+--------------------+--------------------+\n",
      "|                 URL|GameType|            Location|           Date|   Time|WinningTeam|Quarter|SecLeft|AwayTeam|            AwayPlay|AwayScore|HomeTeam|HomePlay|HomeScore|             Shooter|  ShotType|ShotOutcome|ShotDist|Assister|             Blocker|FoulType|Fouler|Fouled|Rebounder|ReboundType|ViolationPlayer|ViolationType|TimeoutTeam|FreeThrowShooter|FreeThrowOutcome|FreeThrowNum|EnterGame|LeaveGame|TurnoverPlayer|TurnoverType|TurnoverCause|TurnoverCauser|  JumpballAwayPlayer|  JumpballHomePlayer|        JumpballPoss|\n",
      "+--------------------+--------+--------------------+---------------+-------+-----------+-------+-------+--------+--------------------+---------+--------+--------+---------+--------------------+----------+-----------+--------+--------+--------------------+--------+------+------+---------+-----------+---------------+-------------+-----------+----------------+----------------+------------+---------+---------+--------------+------------+-------------+--------------+--------------------+--------------------+--------------------+\n",
      "|/boxscores/201510...| regular|Philips Arena Atl...|October 27 2015|8:00 PM|        DET|      1|    720|     DET|Jump ball: A. Dru...|        0|     ATL|    null|        0|                null|      null|       null|    null|    null|                null|    null|  null|  null|     null|       null|           null|         null|       null|            null|            null|        null|     null|     null|          null|        null|         null|          null|A. Drummond - dru...|A. Horford - horf...|E. İlyasova - ily...|\n",
      "|/boxscores/201510...| regular|Philips Arena Atl...|October 27 2015|8:00 PM|        DET|      1|    701|     DET|A. Drummond misse...|        0|     ATL|    null|        0|A. Drummond - dru...|2-pt layup|       miss|     1.0|    null|A. Horford - horf...|    null|  null|  null|     null|       null|           null|         null|       null|            null|            null|        null|     null|     null|          null|        null|         null|          null|                null|                null|                null|\n",
      "+--------------------+--------+--------------------+---------------+-------+-----------+-------+-------+--------+--------------------+---------+--------+--------+---------+--------------------+----------+-----------+--------+--------+--------------------+--------+------+------+---------+-----------+---------------+-------------+-----------+----------------+----------------+------------+---------+---------+--------------+------------+-------------+--------------+--------------------+--------------------+--------------------+\n",
      "only showing top 2 rows\n",
      "\n"
     ]
    }
   ],
   "source": [
    "# df.show(2)\n",
    "feats = ['Date', 'Time',\n",
    "         'Quarter', 'SecLeft', \n",
    "         'AwayTeam', 'AwayPlay', \n",
    "         'AwayScore', \n",
    "         'HomeTeam', 'HomePlay', \n",
    "         'HomeScore',\n",
    "         'Shooter', 'ShotType','ShotOutcome', 'ShotDist',\n",
    "         'Assister','Blocker', \n",
    "         'FoulType', 'Fouler', 'Fouled', \n",
    "         'Rebounder', 'ReboundType', \n",
    "         'ViolationPlayer', 'ViolationType',\n",
    "         'TimeoutTeam', \n",
    "         'FreeThrowShooter', 'FreeThrowOutcome', 'FreeThrowNum',\n",
    "         'EnterGame', 'LeaveGame', \n",
    "         'TurnoverPlayer','TurnoverType', 'TurnoverCause', 'TurnoverCauser',\n",
    "         'JumpballAwayPlayer', 'JumpballHomePlayer', 'JumpballPoss'\n",
    "        ]\n",
    "\n",
    "target = 'WinningTeam'"
   ]
  },
  {
   "cell_type": "code",
   "execution_count": null,
   "metadata": {},
   "outputs": [],
   "source": [
    "from pyspark.ml.feature import VectorAssembler\n",
    "\n",
    "# inputCols take a list of column names\n",
    "# outputCol is arbitrary name of new column; generally called features\n",
    "\n",
    "assembler = VectorAssembler(inputCols=[\"median_income\", \"total_rooms\"],\n",
    "                            outputCol=\"features\")\n",
    "\n",
    "tr = assembler.transform(training)\n",
    "tr.select(\"*\").show(2, truncate=False)"
   ]
  },
  {
   "cell_type": "code",
   "execution_count": 13,
   "metadata": {},
   "outputs": [
    {
     "ename": "AttributeError",
     "evalue": "'DataFrame' object has no attribute 'date_format'",
     "output_type": "error",
     "traceback": [
      "\u001b[0;31m---------------------------------------------------------------------------\u001b[0m",
      "\u001b[0;31mAttributeError\u001b[0m                            Traceback (most recent call last)",
      "\u001b[0;32m<ipython-input-13-9f544b258342>\u001b[0m in \u001b[0;36m<module>\u001b[0;34m\u001b[0m\n\u001b[1;32m      2\u001b[0m \u001b[0;31m# Date and Home Team\u001b[0m\u001b[0;34m\u001b[0m\u001b[0;34m\u001b[0m\u001b[0;34m\u001b[0m\u001b[0m\n\u001b[1;32m      3\u001b[0m \u001b[0;34m\u001b[0m\u001b[0m\n\u001b[0;32m----> 4\u001b[0;31m \u001b[0mdf_adjusted\u001b[0m \u001b[0;34m=\u001b[0m \u001b[0mdf\u001b[0m\u001b[0;34m.\u001b[0m\u001b[0mwithColumn\u001b[0m\u001b[0;34m(\u001b[0m\u001b[0;34m\"gameID\"\u001b[0m\u001b[0;34m,\u001b[0m \u001b[0mdf\u001b[0m\u001b[0;34m.\u001b[0m\u001b[0mdate_format\u001b[0m\u001b[0;34m(\u001b[0m\u001b[0mdf\u001b[0m\u001b[0;34m.\u001b[0m\u001b[0mDate\u001b[0m\u001b[0;34m,\u001b[0m\u001b[0;34m'yyyymmdd'\u001b[0m\u001b[0;34m)\u001b[0m \u001b[0;34m+\u001b[0m \u001b[0;34m'-'\u001b[0m \u001b[0;34m+\u001b[0m \u001b[0mdf\u001b[0m\u001b[0;34m.\u001b[0m\u001b[0mHomeTeam\u001b[0m\u001b[0;34m)\u001b[0m\u001b[0;34m\u001b[0m\u001b[0;34m\u001b[0m\u001b[0m\n\u001b[0m\u001b[1;32m      5\u001b[0m \u001b[0mdf_adjusted\u001b[0m\u001b[0;34m.\u001b[0m\u001b[0mshow\u001b[0m\u001b[0;34m(\u001b[0m\u001b[0;36m2\u001b[0m\u001b[0;34m)\u001b[0m\u001b[0;34m\u001b[0m\u001b[0;34m\u001b[0m\u001b[0m\n",
      "\u001b[0;32m/usr/local/spark/python/pyspark/sql/dataframe.py\u001b[0m in \u001b[0;36m__getattr__\u001b[0;34m(self, name)\u001b[0m\n\u001b[1;32m   1642\u001b[0m         \u001b[0;32mif\u001b[0m \u001b[0mname\u001b[0m \u001b[0;32mnot\u001b[0m \u001b[0;32min\u001b[0m \u001b[0mself\u001b[0m\u001b[0;34m.\u001b[0m\u001b[0mcolumns\u001b[0m\u001b[0;34m:\u001b[0m\u001b[0;34m\u001b[0m\u001b[0;34m\u001b[0m\u001b[0m\n\u001b[1;32m   1643\u001b[0m             raise AttributeError(\n\u001b[0;32m-> 1644\u001b[0;31m                 \"'%s' object has no attribute '%s'\" % (self.__class__.__name__, name))\n\u001b[0m\u001b[1;32m   1645\u001b[0m         \u001b[0mjc\u001b[0m \u001b[0;34m=\u001b[0m \u001b[0mself\u001b[0m\u001b[0;34m.\u001b[0m\u001b[0m_jdf\u001b[0m\u001b[0;34m.\u001b[0m\u001b[0mapply\u001b[0m\u001b[0;34m(\u001b[0m\u001b[0mname\u001b[0m\u001b[0;34m)\u001b[0m\u001b[0;34m\u001b[0m\u001b[0;34m\u001b[0m\u001b[0m\n\u001b[1;32m   1646\u001b[0m         \u001b[0;32mreturn\u001b[0m \u001b[0mColumn\u001b[0m\u001b[0;34m(\u001b[0m\u001b[0mjc\u001b[0m\u001b[0;34m)\u001b[0m\u001b[0;34m\u001b[0m\u001b[0;34m\u001b[0m\u001b[0m\n",
      "\u001b[0;31mAttributeError\u001b[0m: 'DataFrame' object has no attribute 'date_format'"
     ]
    }
   ],
   "source": [
    "# Create unique game identifier\n",
    "# Date and Home Team\n",
    "\n",
    "df_adjusted = df.withColumn(\"gameID\", df.date_format(df.Date,'yyyymmdd') + '-' + df.HomeTeam)\n",
    "df_adjusted.show(2)"
   ]
  },
  {
   "cell_type": "code",
   "execution_count": null,
   "metadata": {},
   "outputs": [],
   "source": [
    "# Create Cumulative Features\n",
    "# https://www.datasciencemadesimple.com/cumulative-sum-of-column-and-group-in-pyspark/\n"
   ]
  },
  {
   "cell_type": "code",
   "execution_count": 16,
   "metadata": {},
   "outputs": [
    {
     "ename": "NameError",
     "evalue": "name 'create_response' is not defined",
     "output_type": "error",
     "traceback": [
      "\u001b[0;31m---------------------------------------------------------------------------\u001b[0m",
      "\u001b[0;31mNameError\u001b[0m                                 Traceback (most recent call last)",
      "\u001b[0;32m<ipython-input-16-355453ae427d>\u001b[0m in \u001b[0;36m<module>\u001b[0;34m\u001b[0m\n\u001b[1;32m     21\u001b[0m \u001b[0;31m# def otherFunc():\u001b[0m\u001b[0;34m\u001b[0m\u001b[0;34m\u001b[0m\u001b[0;34m\u001b[0m\u001b[0m\n\u001b[1;32m     22\u001b[0m \u001b[0mhome\u001b[0m \u001b[0;34m=\u001b[0m \u001b[0mdf\u001b[0m\u001b[0;34m.\u001b[0m\u001b[0mselect\u001b[0m\u001b[0;34m(\u001b[0m\u001b[0;34m[\u001b[0m\u001b[0;34m'Date'\u001b[0m\u001b[0;34m,\u001b[0m \u001b[0;34m'WinningTeam'\u001b[0m\u001b[0;34m,\u001b[0m \u001b[0;34m'HomeTeam'\u001b[0m\u001b[0;34m,\u001b[0m \u001b[0;34m'HomePlay'\u001b[0m\u001b[0;34m,\u001b[0m \u001b[0;34m'HomeScore'\u001b[0m\u001b[0;34m,\u001b[0m \u001b[0;34m'AwayScore'\u001b[0m\u001b[0;34m]\u001b[0m \u001b[0;34m+\u001b[0m \u001b[0mpredictors\u001b[0m\u001b[0;34m)\u001b[0m\u001b[0;31m \u001b[0m\u001b[0;31m\\\u001b[0m\u001b[0;34m\u001b[0m\u001b[0;34m\u001b[0m\u001b[0m\n\u001b[0;32m---> 23\u001b[0;31m     \u001b[0;34m.\u001b[0m\u001b[0mwithColumn\u001b[0m\u001b[0;34m(\u001b[0m\u001b[0;34m'Won'\u001b[0m\u001b[0;34m,\u001b[0m \u001b[0mF\u001b[0m\u001b[0;34m.\u001b[0m\u001b[0mUserDefinedFunction\u001b[0m\u001b[0;34m(\u001b[0m\u001b[0mcreate_response\u001b[0m\u001b[0;34m,\u001b[0m \u001b[0mIntegerType\u001b[0m\u001b[0;34m(\u001b[0m\u001b[0;34m)\u001b[0m\u001b[0;34m)\u001b[0m\u001b[0;34m(\u001b[0m\u001b[0;34m'WinningTeam'\u001b[0m\u001b[0;34m,\u001b[0m \u001b[0;34m'HomeTeam'\u001b[0m\u001b[0;34m)\u001b[0m\u001b[0;34m)\u001b[0m\u001b[0;31m \u001b[0m\u001b[0;31m\\\u001b[0m\u001b[0;34m\u001b[0m\u001b[0;34m\u001b[0m\u001b[0m\n\u001b[0m\u001b[1;32m     24\u001b[0m     \u001b[0;34m.\u001b[0m\u001b[0mna\u001b[0m\u001b[0;34m.\u001b[0m\u001b[0mdrop\u001b[0m\u001b[0;34m(\u001b[0m\u001b[0msubset\u001b[0m \u001b[0;34m=\u001b[0m \u001b[0;34m[\u001b[0m\u001b[0;34m'HomePlay'\u001b[0m\u001b[0;34m]\u001b[0m\u001b[0;34m)\u001b[0m\u001b[0;31m \u001b[0m\u001b[0;31m\\\u001b[0m\u001b[0;34m\u001b[0m\u001b[0;34m\u001b[0m\u001b[0m\n\u001b[1;32m     25\u001b[0m     \u001b[0;34m.\u001b[0m\u001b[0mdrop\u001b[0m\u001b[0;34m(\u001b[0m\u001b[0;34m'WinningTeam'\u001b[0m\u001b[0;34m,\u001b[0m \u001b[0;34m'HomeTeam'\u001b[0m\u001b[0;34m,\u001b[0m \u001b[0;34m'HomePlay'\u001b[0m\u001b[0;34m)\u001b[0m\u001b[0;34m\u001b[0m\u001b[0;34m\u001b[0m\u001b[0m\n",
      "\u001b[0;31mNameError\u001b[0m: name 'create_response' is not defined"
     ]
    }
   ],
   "source": [
    "# Logistic Regression: Home Team Win\n",
    "import pyspark.sql.functions as F\n",
    "\n",
    "\n",
    "predictors = [\n",
    "      'Shooter'\n",
    "    , 'Assister'\n",
    "    , 'Blocker'\n",
    "    , 'Fouler'\n",
    "    , 'Fouled'\n",
    "    , 'Rebounder'\n",
    "    , 'ViolationPlayer'\n",
    "    , 'FreeThrowShooter'\n",
    "    , 'TurnoverPlayer'\n",
    "    , 'TurnoverCauser'\n",
    "    , 'JumpballAwayPlayer'\n",
    "    , 'JumpballHomePlayer'\n",
    "    , 'JumpballPoss'\n",
    "]\n",
    "\n",
    "# def otherFunc():\n",
    "home = df.select(['Date', 'WinningTeam', 'HomeTeam', 'HomePlay', 'HomeScore', 'AwayScore'] + predictors) \\\n",
    "    .withColumn('Won', F.UserDefinedFunction(create_response, IntegerType())('WinningTeam', 'HomeTeam')) \\\n",
    "    .na.drop(subset = ['HomePlay']) \\\n",
    "    .drop('WinningTeam', 'HomeTeam', 'HomePlay')\n",
    "\n",
    "away = df.select(['Date', 'WinningTeam', 'AwayTeam', 'AwayPlay', 'AwayScore', 'HomeScore'] + predictors) \\\n",
    "    .withColumn('Won', F.UserDefinedFunction(create_response, IntegerType())('WinningTeam', 'AwayTeam')) \\\n",
    "    .na.drop(subset = ['AwayPlay']) \\\n",
    "    .drop('WinningTeam', 'AwayTeam', 'AwayPlay')\n",
    "\n",
    "subset = home.union(away)\n",
    "\n"
   ]
  },
  {
   "cell_type": "code",
   "execution_count": null,
   "metadata": {},
   "outputs": [],
   "source": []
  }
 ],
 "metadata": {
  "kernelspec": {
   "display_name": "DS 5110 Spark 3.1",
   "language": "python",
   "name": "ds5110_spark3.1"
  },
  "language_info": {
   "codemirror_mode": {
    "name": "ipython",
    "version": 3
   },
   "file_extension": ".py",
   "mimetype": "text/x-python",
   "name": "python",
   "nbconvert_exporter": "python",
   "pygments_lexer": "ipython3",
   "version": "3.7.10"
  }
 },
 "nbformat": 4,
 "nbformat_minor": 4
}
