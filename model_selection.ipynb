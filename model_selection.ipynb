{
 "cells": [
  {
   "cell_type": "code",
   "execution_count": 5,
   "metadata": {},
   "outputs": [],
   "source": [
    "import json\n",
    "import os\n",
    "\n",
    "import numpy as np\n",
    "import pandas as pd\n",
    "import pyspark.sql.functions as F\n",
    "import regex as re\n",
    "\n",
    "from IPython.display import display\n",
    "from pyspark.ml import Pipeline\n",
    "from pyspark.ml.classification import GBTClassifier, LinearSVC, LogisticRegression, RandomForestClassifier\n",
    "from pyspark.ml.evaluation import BinaryClassificationEvaluator\n",
    "from pyspark.ml.feature import VectorAssembler\n",
    "from pyspark.ml.tuning import CrossValidator, ParamGridBuilder\n",
    "from pyspark.sql import DataFrame, SparkSession\n",
    "from pyspark.sql.types import *\n",
    "from typing import *"
   ]
  },
  {
   "cell_type": "code",
   "execution_count": 6,
   "metadata": {},
   "outputs": [],
   "source": [
    "spark = SparkSession \\\n",
    "    .builder \\\n",
    "    .appName('group2nba') \\\n",
    "    .getOrCreate()"
   ]
  },
  {
   "cell_type": "code",
   "execution_count": 7,
   "metadata": {},
   "outputs": [],
   "source": [
    "path_main = '/project/ds5559/group2nba'\n",
    "\n",
    "T = TypeVar('T')"
   ]
  },
  {
   "cell_type": "code",
   "execution_count": 8,
   "metadata": {},
   "outputs": [],
   "source": [
    "class ML_CV():\n",
    "    __slots__: List[str] = [\n",
    "          'Model'\n",
    "        , 'TestParameters'\n",
    "        , 'BestParameters'\n",
    "    ]\n",
    "    \n",
    "    def __init__(self, model: T, test_params: Callable, best_params: Callable): # todo: touch up\n",
    "        self.Model = model\n",
    "        self.TestParameters = test_params\n",
    "        self.BestParameters = best_params"
   ]
  },
  {
   "cell_type": "code",
   "execution_count": 9,
   "metadata": {},
   "outputs": [],
   "source": [
    "FIELDS: Dict[str, T] = {\n",
    "      'Url': StringType\n",
    "    , 'GameType': StringType\n",
    "    , 'Location': StringType\n",
    "    , 'Date': StringType\n",
    "    , 'Time': StringType\n",
    "    , 'WinningTeam': StringType\n",
    "    , 'Quarter': IntegerType\n",
    "    , 'SecLeft': IntegerType\n",
    "    , 'AwayTeam': StringType\n",
    "    , 'AwayPlay': StringType\n",
    "    , 'AwayScore': IntegerType\n",
    "    , 'HomeTeam': StringType\n",
    "    , 'HomePlay': StringType\n",
    "    , 'HomeScore': IntegerType\n",
    "    , 'Shooter': StringType\n",
    "    , 'ShotType': StringType\n",
    "    , 'ShotOutcome': IntegerType\n",
    "    , 'ShotDist': IntegerType\n",
    "    , 'Assister': StringType\n",
    "    , 'Blocker': StringType\n",
    "    , 'FoulType': StringType\n",
    "    , 'Fouler': StringType\n",
    "    , 'Fouled': StringType\n",
    "    , 'Rebounder': StringType\n",
    "    , 'ReboundType': IntegerType\n",
    "    , 'ViolationPlayer': StringType\n",
    "    , 'ViolationType': StringType\n",
    "    , 'TimeoutTeam': StringType\n",
    "    , 'FreeThrowShooter': StringType\n",
    "    , 'FreeThrowOutcome': IntegerType\n",
    "    , 'FreeThrowNum': StringType\n",
    "    , 'EnterGame': StringType\n",
    "    , 'LeaveGame': StringType\n",
    "    , 'TurnoverPlayer': StringType\n",
    "    , 'TurnoverType': StringType\n",
    "    , 'TurnoverCause': StringType\n",
    "    , 'TurnoverCauser': StringType\n",
    "    , 'JumpballAwayPlayer': StringType\n",
    "    , 'JumpballHomePlayer': StringType\n",
    "    , 'JumpballPoss': StringType\n",
    "}\n",
    "\n",
    "POSSESSION_PLAYS: List[str] = [\n",
    "      'Shooter'\n",
    "    , 'Assister'\n",
    "    , 'Fouled'\n",
    "    , 'Rebounder'\n",
    "    , 'ViolationPlayer'\n",
    "    , 'FreeThrowShooter'\n",
    "    , 'TurnOverPlayer'\n",
    "    , 'JumpballPoss'\n",
    "]\n",
    "\n",
    "MODEL_FEATURES: List[str] = [\n",
    "      'ScoreDiff'\n",
    "    , 'SecLeftTotal'\n",
    "    , 'HasPossession'\n",
    "]\n",
    "    \n",
    "MODEL_FIELDS: List[str] = [\n",
    "      'Date'\n",
    "    , 'HomeTeam'\n",
    "    , 'AwayTeam'\n",
    "    , 'Team'\n",
    "    , 'Year'\n",
    "    , 'Won'\n",
    "    , 'ScoreDiff'\n",
    "    , 'Quarter'\n",
    "    , 'SecLeftTotal'\n",
    "    , 'HasPossession'\n",
    "]\n",
    "\n",
    "DICT_ML: Dict[str, ML_CV] = {\n",
    "      'GradientBoost': ML_CV(GBTClassifier\n",
    "        , lambda x: ParamGridBuilder()\n",
    "            .addGrid(x.maxBins, [2, 3])\n",
    "            .addGrid(x.maxDepth, [3, 5, 10])\n",
    "            .build()\n",
    "        , lambda x: {\n",
    "              'maxBins': x._java_obj.getMaxBins()\n",
    "            , 'maxDepth': x._java_obj.getMaxDepth()\n",
    "        })\n",
    "    \n",
    "    , 'LinearSVC': ML_CV(LinearSVC\n",
    "        , lambda x: ParamGridBuilder()\n",
    "            .addGrid(x.aggregationDepth, [3, 5, 10])\n",
    "            .addGrid(x.maxIter, [10, 20, 50])\n",
    "            .build()\n",
    "        , lambda x: {\n",
    "              'maxBins': x._java_obj.getAggregationDepth()\n",
    "            , 'maxDepth': x._java_obj.getMaxIter()\n",
    "        })\n",
    "    \n",
    "    , 'LogisticRegression': ML_CV(LogisticRegression\n",
    "        , lambda x: ParamGridBuilder()\n",
    "            .addGrid(x.maxIter, [10, 20])\n",
    "            .addGrid(x.regParam, [0.1, 0.5])\n",
    "            .build()\n",
    "        , lambda x: {\n",
    "              'maxBins': x.getMaxIter()\n",
    "            , 'maxDepth': x.getRegParam()\n",
    "        })\n",
    "    \n",
    "    , 'RandomForest': ML_CV(RandomForestClassifier\n",
    "        , lambda x: ParamGridBuilder()\n",
    "            .addGrid(x.maxBins, [2, 3])\n",
    "            .addGrid(x.maxDepth, [3, 5, 10])\n",
    "            .addGrid(x.numTrees, [100, 500])\n",
    "            .build()\n",
    "        , lambda x: {\n",
    "              'maxBins': x._java_obj.getMaxBins()\n",
    "            , 'maxDepth': x._java_obj.getMaxDepth()\n",
    "            , 'numTrees': x._java_obj.getNumTrees()\n",
    "        })\n",
    "}"
   ]
  },
  {
   "cell_type": "code",
   "execution_count": 10,
   "metadata": {},
   "outputs": [],
   "source": [
    "@F.udf(IntegerType())\n",
    "def get_has_possession(team: str, plays: List[str]) -> int:\n",
    "    '''Get: whether the current team has possession of the ball'''\n",
    "    return int(bool(team) and any([bool(x) for x in plays]))\n",
    "\n",
    "\n",
    "@F.udf(IntegerType())\n",
    "def get_score_diff(score1: int, score2: int) -> int:\n",
    "    '''Get: score differential relative to the specified team'''\n",
    "    return score1 - score2\n",
    "\n",
    "\n",
    "@F.udf(IntegerType())\n",
    "def get_secleft_total(quarter: int, maxquarter: int, sec: int) -> int:\n",
    "    '''Get: SecLeft by Quarter, accounting for OT'''\n",
    "    if quarter < 5:\n",
    "        return ((maxquarter - 4) * 300) + ((4 - quarter) * 720) + sec\n",
    "    else:\n",
    "        return ((maxquarter - quarter) * 300) + sec\n",
    "    \n",
    "    \n",
    "@F.udf(StringType())\n",
    "def get_team(team: str) -> str:\n",
    "    '''Get: the specified team'''\n",
    "    return team\n",
    "    \n",
    "    \n",
    "@F.udf(IntegerType())\n",
    "def get_won(winner: str, team: str) -> int:\n",
    "    '''Get: whether the specified team won'''\n",
    "    return int(winner == team)\n",
    "    \n",
    "    \n",
    "@F.udf(IntegerType())\n",
    "def get_year(date: str) -> int:\n",
    "    '''Get: Year of game took place in'''\n",
    "    return int(re.match(r'[A-Z][a-z]+ \\d+ (\\d{4})', date).groups()[0])"
   ]
  },
  {
   "cell_type": "code",
   "execution_count": 11,
   "metadata": {},
   "outputs": [],
   "source": [
    "def build_model_win_percent(df: DataFrame) -> DataFrame:\n",
    "    '''Constucts a model for predicting the win percent on a play by play basis'''\n",
    "    altered = df \\\n",
    "        .groupBy(['Date', 'HomeTeam', 'AwayTeam']) \\\n",
    "        .agg(F.max('Quarter')\n",
    "             .alias('MaxQuarter')) \\\n",
    "        .join(df, ['Date', 'HomeTeam', 'AwayTeam']) \\\n",
    "        .withColumn('SecLeftTotal', get_secleft_total('Quarter', 'MaxQuarter', 'SecLeft')) \\\n",
    "        .withColumn('Year', get_year('Date'))\n",
    "\n",
    "    home = altered \\\n",
    "        .withColumn('Won', get_won('WinningTeam', 'HomeTeam')) \\\n",
    "        .withColumn('ScoreDiff', get_score_diff('HomeScore', 'AwayScore')) \\\n",
    "        .withColumn('HasPossession', get_has_possession('HomePlay', F.array(*POSSESSION_PLAYS))) \\\n",
    "        .withColumn('Team', get_team('HomeTeam')) \\\n",
    "        .select(MODEL_FIELDS)\n",
    "    \n",
    "    away = altered \\\n",
    "        .withColumn('Won', get_won('WinningTeam', 'AwayTeam')) \\\n",
    "        .withColumn('ScoreDiff', get_score_diff('AwayScore', 'HomeScore')) \\\n",
    "        .withColumn('HasPossession', get_has_possession('AwayPlay', F.array(*POSSESSION_PLAYS))) \\\n",
    "        .withColumn('Team', get_team('AwayTeam')) \\\n",
    "        .select(MODEL_FIELDS)\n",
    "    \n",
    "    return home.union(away)"
   ]
  },
  {
   "cell_type": "code",
   "execution_count": 12,
   "metadata": {},
   "outputs": [],
   "source": [
    "def cross_validate(df: DataFrame, ml_method: str, features: List[str], k_folds: int = 10) -> DataFrame:\n",
    "    '''...'''\n",
    "    # retrieve the necessary information to cross validate the model type\n",
    "    method = DICT_ML[ml_method]\n",
    "    \n",
    "    # create pipeline\n",
    "    pipeline = Pipeline(stages = [\n",
    "          VectorAssembler(inputCols = features, outputCol = 'features')\n",
    "        , method.Model(featuresCol = 'features', labelCol = 'Won')\n",
    "    ])\n",
    "    \n",
    "    # define the hyperparmeters to test\n",
    "    param_grid = method.TestParameters(pipeline.getStages()[1])\n",
    "    \n",
    "    # classification method\n",
    "    classifier = BinaryClassificationEvaluator(\n",
    "          metricName = 'areaUnderROC'\n",
    "        , rawPredictionCol = 'rawPrediction'\n",
    "        , labelCol = 'Won'\n",
    "    )\n",
    "    \n",
    "    # do cross validation\n",
    "    cv_model = CrossValidator(\n",
    "          estimator = pipeline\n",
    "        , estimatorParamMaps = param_grid\n",
    "        , evaluator = classifier\n",
    "        , numFolds = k_folds\n",
    "    ).setParallelism(k_folds).fit(df)\n",
    "\n",
    "    # return results as pandas dataframe\n",
    "    return pd.DataFrame({\n",
    "          'Method': [ml_method]\n",
    "        , 'ROC': [cv_model.avgMetrics[0]]\n",
    "        , 'HyperParameters': [json.dumps(method.BestParameters(cv_model.bestModel.stages[1]))]\n",
    "    })"
   ]
  },
  {
   "cell_type": "code",
   "execution_count": 13,
   "metadata": {},
   "outputs": [
    {
     "data": {
      "text/plain": [
       "2403581"
      ]
     },
     "metadata": {},
     "output_type": "display_data"
    },
    {
     "name": "stdout",
     "output_type": "stream",
     "text": [
      "root\n",
      " |-- Url: string (nullable = true)\n",
      " |-- GameType: string (nullable = true)\n",
      " |-- Location: string (nullable = true)\n",
      " |-- Date: string (nullable = true)\n",
      " |-- Time: string (nullable = true)\n",
      " |-- WinningTeam: string (nullable = true)\n",
      " |-- Quarter: integer (nullable = true)\n",
      " |-- SecLeft: integer (nullable = true)\n",
      " |-- AwayTeam: string (nullable = true)\n",
      " |-- AwayPlay: string (nullable = true)\n",
      " |-- AwayScore: integer (nullable = true)\n",
      " |-- HomeTeam: string (nullable = true)\n",
      " |-- HomePlay: string (nullable = true)\n",
      " |-- HomeScore: integer (nullable = true)\n",
      " |-- Shooter: string (nullable = true)\n",
      " |-- ShotType: string (nullable = true)\n",
      " |-- ShotOutcome: integer (nullable = true)\n",
      " |-- ShotDist: integer (nullable = true)\n",
      " |-- Assister: string (nullable = true)\n",
      " |-- Blocker: string (nullable = true)\n",
      " |-- FoulType: string (nullable = true)\n",
      " |-- Fouler: string (nullable = true)\n",
      " |-- Fouled: string (nullable = true)\n",
      " |-- Rebounder: string (nullable = true)\n",
      " |-- ReboundType: integer (nullable = true)\n",
      " |-- ViolationPlayer: string (nullable = true)\n",
      " |-- ViolationType: string (nullable = true)\n",
      " |-- TimeoutTeam: string (nullable = true)\n",
      " |-- FreeThrowShooter: string (nullable = true)\n",
      " |-- FreeThrowOutcome: integer (nullable = true)\n",
      " |-- FreeThrowNum: string (nullable = true)\n",
      " |-- EnterGame: string (nullable = true)\n",
      " |-- LeaveGame: string (nullable = true)\n",
      " |-- TurnoverPlayer: string (nullable = true)\n",
      " |-- TurnoverType: string (nullable = true)\n",
      " |-- TurnoverCause: string (nullable = true)\n",
      " |-- TurnoverCauser: string (nullable = true)\n",
      " |-- JumpballAwayPlayer: string (nullable = true)\n",
      " |-- JumpballHomePlayer: string (nullable = true)\n",
      " |-- JumpballPoss: string (nullable = true)\n",
      "\n"
     ]
    },
    {
     "data": {
      "text/plain": [
       "None"
      ]
     },
     "metadata": {},
     "output_type": "display_data"
    },
    {
     "data": {
      "text/plain": [
       "[Row(Url='/boxscores/201810160BOS.html', GameType='regular', Location='TD Garden Boston Massachusetts', Date='October 16 2018', Time='8:00 PM', WinningTeam='BOS', Quarter=1, SecLeft=700, AwayTeam='PHI', AwayPlay='R. Covington misses 3-pt jump shot from 27 ft', AwayScore=0, HomeTeam='BOS', HomePlay=None, HomeScore=0, Shooter='R. Covington - covinro01', ShotType=None, ShotOutcome=0, ShotDist=None, Assister=None, Blocker=None, FoulType=None, Fouler=None, Fouled=None, Rebounder=None, ReboundType=None, ViolationPlayer=None, ViolationType=None, TimeoutTeam=None, FreeThrowShooter=None, FreeThrowOutcome=None, FreeThrowNum=None, EnterGame=None, LeaveGame=None, TurnoverPlayer=None, TurnoverType=None, TurnoverCause=None, TurnoverCauser=None, JumpballAwayPlayer=None, JumpballHomePlayer=None, JumpballPoss=None),\n",
       " Row(Url='/boxscores/201810160BOS.html', GameType='regular', Location='TD Garden Boston Massachusetts', Date='October 16 2018', Time='8:00 PM', WinningTeam='BOS', Quarter=1, SecLeft=700, AwayTeam='PHI', AwayPlay=None, AwayScore=0, HomeTeam='BOS', HomePlay='Defensive rebound by Team', HomeScore=0, Shooter=None, ShotType=None, ShotOutcome=None, ShotDist=None, Assister=None, Blocker=None, FoulType=None, Fouler=None, Fouled=None, Rebounder='Team', ReboundType=None, ViolationPlayer=None, ViolationType=None, TimeoutTeam=None, FreeThrowShooter=None, FreeThrowOutcome=None, FreeThrowNum=None, EnterGame=None, LeaveGame=None, TurnoverPlayer=None, TurnoverType=None, TurnoverCause=None, TurnoverCauser=None, JumpballAwayPlayer=None, JumpballHomePlayer=None, JumpballPoss=None)]"
      ]
     },
     "metadata": {},
     "output_type": "display_data"
    }
   ],
   "source": [
    "schema = StructType([StructField(k, v()) for k, v in FIELDS.items()])\n",
    "\n",
    "df_train = spark.read \\\n",
    "    .format('csv') \\\n",
    "    .option('header', True) \\\n",
    "    .schema(schema) \\\n",
    "    .load(f'{path_main}/clean_train_data/*')\n",
    "\n",
    "display(df_train.count())\n",
    "display(df_train.printSchema())\n",
    "display(df_train.head(2))"
   ]
  },
  {
   "cell_type": "code",
   "execution_count": 14,
   "metadata": {},
   "outputs": [
    {
     "data": {
      "text/plain": [
       "579310"
      ]
     },
     "metadata": {},
     "output_type": "display_data"
    },
    {
     "name": "stdout",
     "output_type": "stream",
     "text": [
      "root\n",
      " |-- Date: string (nullable = true)\n",
      " |-- HomeTeam: string (nullable = true)\n",
      " |-- AwayTeam: string (nullable = true)\n",
      " |-- Team: string (nullable = true)\n",
      " |-- Year: integer (nullable = true)\n",
      " |-- Won: integer (nullable = true)\n",
      " |-- ScoreDiff: integer (nullable = true)\n",
      " |-- Quarter: integer (nullable = true)\n",
      " |-- SecLeftTotal: integer (nullable = true)\n",
      " |-- HasPossession: integer (nullable = true)\n",
      "\n"
     ]
    },
    {
     "data": {
      "text/plain": [
       "None"
      ]
     },
     "metadata": {},
     "output_type": "display_data"
    },
    {
     "data": {
      "text/plain": [
       "[Row(Date='December 18 2016', HomeTeam='MEM', AwayTeam='UTA', Team='MEM', Year=2016, Won=0, ScoreDiff=0, Quarter=4, SecLeftTotal=297, HasPossession=1),\n",
       " Row(Date='December 18 2016', HomeTeam='MEM', AwayTeam='UTA', Team='MEM', Year=2016, Won=0, ScoreDiff=0, Quarter=4, SecLeftTotal=296, HasPossession=1)]"
      ]
     },
     "metadata": {},
     "output_type": "display_data"
    }
   ],
   "source": [
    "df_train = build_model_win_percent(df_train) \\\n",
    "    .where(F.col('SecLeftTotal') <= 300)\n",
    "\n",
    "display(df_train.count())\n",
    "display(df_train.printSchema())\n",
    "display(df_train.head(2))"
   ]
  },
  {
   "cell_type": "code",
   "execution_count": null,
   "metadata": {},
   "outputs": [],
   "source": [
    "# cv_results = spark.sparkContext \\\n",
    "#     .parallelize([pd.DataFrame({})] + list(DICT_ML.keys())) \\\n",
    "#     .reduce(lambda c, n: pd.concat(c, cross_validate(df_train, n, MODEL_FEATURES)))\n",
    "# cv_results\n",
    "# ?????????????????????\n",
    "\n",
    "cv_results = pd.DataFrame({})\n",
    "for method in DICT_ML.keys():\n",
    "    cv_results = pd.concat([cv_results, cross_validate(df_train, method, MODEL_FEATURES)])\n",
    "cv_results"
   ]
  },
  {
   "cell_type": "code",
   "execution_count": null,
   "metadata": {},
   "outputs": [],
   "source": [
    "# path_write = f'{path_main}/ml_models'\n",
    "#     \n",
    "# cv_results.to_csv(f'{path_write}/cv_results_{len(os.listdir(path_write))}.csv')"
   ]
  },
  {
   "cell_type": "code",
   "execution_count": null,
   "metadata": {},
   "outputs": [],
   "source": []
  }
 ],
 "metadata": {
  "kernelspec": {
   "display_name": "DS 5110 Spark 3.1",
   "language": "python",
   "name": "ds5110_spark3.1"
  },
  "language_info": {
   "codemirror_mode": {
    "name": "ipython",
    "version": 3
   },
   "file_extension": ".py",
   "mimetype": "text/x-python",
   "name": "python",
   "nbconvert_exporter": "python",
   "pygments_lexer": "ipython3",
   "version": "3.7.10"
  }
 },
 "nbformat": 4,
 "nbformat_minor": 4
}
