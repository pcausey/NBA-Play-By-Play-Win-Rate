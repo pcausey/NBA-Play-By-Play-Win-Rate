{
 "cells": [
  {
   "cell_type": "code",
   "execution_count": 1,
   "metadata": {},
   "outputs": [],
   "source": [
    "import json\n",
    "import os\n",
    "\n",
    "import numpy as np\n",
    "import pandas as pd\n",
    "import pyspark.sql.functions as F\n",
    "import regex as re\n",
    "\n",
    "from IPython.display import display\n",
    "from pyspark.ml import Pipeline\n",
    "from pyspark.ml.classification import GBTClassifier, LinearSVC, LogisticRegression, RandomForestClassifier\n",
    "from pyspark.ml.feature import VectorAssembler\n",
    "from pyspark.mllib.evaluation import BinaryClassificationMetrics\n",
    "from pyspark.sql import DataFrame, SparkSession\n",
    "from pyspark.sql.types import *\n",
    "from typing import *"
   ]
  },
  {
   "cell_type": "code",
   "execution_count": 2,
   "metadata": {},
   "outputs": [],
   "source": [
    "spark = SparkSession \\\n",
    "    .builder \\\n",
    "    .appName('group2nba') \\\n",
    "    .getOrCreate()"
   ]
  },
  {
   "cell_type": "code",
   "execution_count": 3,
   "metadata": {},
   "outputs": [],
   "source": [
    "path_main = '/project/ds5559/group2nba'\n",
    "\n",
    "T = TypeVar('T')"
   ]
  },
  {
   "cell_type": "code",
   "execution_count": 4,
   "metadata": {},
   "outputs": [],
   "source": [
    "FIELDS: Dict[str, T] = {\n",
    "      'Url': StringType\n",
    "    , 'GameType': StringType\n",
    "    , 'Location': StringType\n",
    "    , 'Date': StringType\n",
    "    , 'Time': StringType\n",
    "    , 'WinningTeam': StringType\n",
    "    , 'Quarter': IntegerType\n",
    "    , 'SecLeft': IntegerType\n",
    "    , 'AwayTeam': StringType\n",
    "    , 'AwayPlay': StringType\n",
    "    , 'AwayScore': IntegerType\n",
    "    , 'HomeTeam': StringType\n",
    "    , 'HomePlay': StringType\n",
    "    , 'HomeScore': IntegerType\n",
    "    , 'Shooter': StringType\n",
    "    , 'ShotType': StringType\n",
    "    , 'ShotOutcome': IntegerType\n",
    "    , 'ShotDist': IntegerType\n",
    "    , 'Assister': StringType\n",
    "    , 'Blocker': StringType\n",
    "    , 'FoulType': StringType\n",
    "    , 'Fouler': StringType\n",
    "    , 'Fouled': StringType\n",
    "    , 'Rebounder': StringType\n",
    "    , 'ReboundType': IntegerType\n",
    "    , 'ViolationPlayer': StringType\n",
    "    , 'ViolationType': StringType\n",
    "    , 'TimeoutTeam': StringType\n",
    "    , 'FreeThrowShooter': StringType\n",
    "    , 'FreeThrowOutcome': IntegerType\n",
    "    , 'FreeThrowNum': StringType\n",
    "    , 'EnterGame': StringType\n",
    "    , 'LeaveGame': StringType\n",
    "    , 'TurnoverPlayer': StringType\n",
    "    , 'TurnoverType': StringType\n",
    "    , 'TurnoverCause': StringType\n",
    "    , 'TurnoverCauser': StringType\n",
    "    , 'JumpballAwayPlayer': StringType\n",
    "    , 'JumpballHomePlayer': StringType\n",
    "    , 'JumpballPoss': StringType\n",
    "}\n",
    "\n",
    "POSSESSION_PLAYS: List[str] = [\n",
    "      'Shooter'\n",
    "    , 'Assister'\n",
    "    , 'Fouled'\n",
    "    , 'Rebounder'\n",
    "    , 'ViolationPlayer'\n",
    "    , 'FreeThrowShooter'\n",
    "    , 'TurnOverPlayer'\n",
    "    , 'JumpballPoss'\n",
    "]\n",
    "\n",
    "MODEL_FEATURES: List[str] = [\n",
    "      'ScoreDiff'\n",
    "    , 'SecLeftTotal'\n",
    "    , 'HasPossession'\n",
    "]\n",
    "    \n",
    "MODEL_FIELDS: List[str] = [\n",
    "      'Date'\n",
    "    , 'HomeTeam'\n",
    "    , 'AwayTeam'\n",
    "    , 'Team'\n",
    "    , 'Year'\n",
    "    , 'Won'\n",
    "    , 'ScoreDiff'\n",
    "    , 'Quarter'\n",
    "    , 'SecLeftTotal'\n",
    "    , 'HasPossession'\n",
    "]\n",
    "\n",
    "DICT_ML: Dict[str, T] = {\n",
    "      'GradientBoost': GBTClassifier\n",
    "    , 'LinearSVC': RandomForestClassifier\n",
    "    , 'LogisticRegression': LogisticRegression\n",
    "    , 'RandomForest': RandomForestClassifier\n",
    "}"
   ]
  },
  {
   "cell_type": "code",
   "execution_count": 5,
   "metadata": {},
   "outputs": [],
   "source": [
    "# TODO: MAKE SEPARATE LIBRARY TO REFERENCE.......\n",
    "\n",
    "@F.udf(IntegerType())\n",
    "def get_has_possession(team: str, plays: List[str]) -> int:\n",
    "    '''Get: whether the current team has possession of the ball'''\n",
    "    return int(bool(team) and any([bool(x) for x in plays]))\n",
    "\n",
    "\n",
    "@F.udf(IntegerType())\n",
    "def get_score_diff(score1: int, score2: int) -> int:\n",
    "    '''Get: score differential relative to the specified team'''\n",
    "    return score1 - score2\n",
    "\n",
    "\n",
    "@F.udf(IntegerType())\n",
    "def get_secleft_total(quarter: int, maxquarter: int, sec: int) -> int:\n",
    "    '''Get: SecLeft by Quarter, accounting for OT'''\n",
    "    if quarter < 5:\n",
    "        return ((maxquarter - 4) * 300) + ((4 - quarter) * 720) + sec\n",
    "    else:\n",
    "        return ((maxquarter - quarter) * 300) + sec\n",
    "    \n",
    "    \n",
    "@F.udf(StringType())\n",
    "def get_team(team: str) -> str:\n",
    "    '''Get: the specified team'''\n",
    "    return team\n",
    "    \n",
    "    \n",
    "@F.udf(IntegerType())\n",
    "def get_won(winner: str, team: str) -> int:\n",
    "    '''Get: whether the specified team won'''\n",
    "    return int(winner == team)\n",
    "    \n",
    "    \n",
    "@F.udf(IntegerType())\n",
    "def get_year(date: str) -> int:\n",
    "    '''Get: Year of game took place in'''\n",
    "    return int(re.match(r'[A-Z][a-z]+ \\d+ (\\d{4})', date).groups()[0])"
   ]
  },
  {
   "cell_type": "code",
   "execution_count": 6,
   "metadata": {},
   "outputs": [],
   "source": [
    "# TODO: MAKE SEPARATE LIBRARY TO REFERENCE.......\n",
    "\n",
    "def build_model_win_percent(df: DataFrame) -> DataFrame:\n",
    "    '''Constucts a model for predicting the win percent on a play by play basis'''\n",
    "    altered = df \\\n",
    "        .groupBy(['Date', 'HomeTeam', 'AwayTeam']) \\\n",
    "        .agg(F.max('Quarter')\n",
    "             .alias('MaxQuarter')) \\\n",
    "        .join(df, ['Date', 'HomeTeam', 'AwayTeam']) \\\n",
    "        .withColumn('SecLeftTotal', get_secleft_total('Quarter', 'MaxQuarter', 'SecLeft')) \\\n",
    "        .withColumn('Year', get_year('Date'))\n",
    "\n",
    "    home = altered \\\n",
    "        .withColumn('Won', get_won('WinningTeam', 'HomeTeam')) \\\n",
    "        .withColumn('ScoreDiff', get_score_diff('HomeScore', 'AwayScore')) \\\n",
    "        .withColumn('HasPossession', get_has_possession('HomePlay', F.array(*POSSESSION_PLAYS))) \\\n",
    "        .withColumn('Team', get_team('HomeTeam')) \\\n",
    "        .select(MODEL_FIELDS)\n",
    "    \n",
    "    away = altered \\\n",
    "        .withColumn('Won', get_won('WinningTeam', 'AwayTeam')) \\\n",
    "        .withColumn('ScoreDiff', get_score_diff('AwayScore', 'HomeScore')) \\\n",
    "        .withColumn('HasPossession', get_has_possession('AwayPlay', F.array(*POSSESSION_PLAYS))) \\\n",
    "        .withColumn('Team', get_team('AwayTeam')) \\\n",
    "        .select(MODEL_FIELDS)\n",
    "    \n",
    "    return home.union(away)"
   ]
  },
  {
   "cell_type": "code",
   "execution_count": 7,
   "metadata": {},
   "outputs": [],
   "source": [
    "schema_data = StructType([StructField(k, v()) for k, v in FIELDS.items()])"
   ]
  },
  {
   "cell_type": "code",
   "execution_count": 8,
   "metadata": {},
   "outputs": [
    {
     "data": {
      "text/plain": [
       "2403581"
      ]
     },
     "metadata": {},
     "output_type": "display_data"
    },
    {
     "name": "stdout",
     "output_type": "stream",
     "text": [
      "root\n",
      " |-- Url: string (nullable = true)\n",
      " |-- GameType: string (nullable = true)\n",
      " |-- Location: string (nullable = true)\n",
      " |-- Date: string (nullable = true)\n",
      " |-- Time: string (nullable = true)\n",
      " |-- WinningTeam: string (nullable = true)\n",
      " |-- Quarter: integer (nullable = true)\n",
      " |-- SecLeft: integer (nullable = true)\n",
      " |-- AwayTeam: string (nullable = true)\n",
      " |-- AwayPlay: string (nullable = true)\n",
      " |-- AwayScore: integer (nullable = true)\n",
      " |-- HomeTeam: string (nullable = true)\n",
      " |-- HomePlay: string (nullable = true)\n",
      " |-- HomeScore: integer (nullable = true)\n",
      " |-- Shooter: string (nullable = true)\n",
      " |-- ShotType: string (nullable = true)\n",
      " |-- ShotOutcome: integer (nullable = true)\n",
      " |-- ShotDist: integer (nullable = true)\n",
      " |-- Assister: string (nullable = true)\n",
      " |-- Blocker: string (nullable = true)\n",
      " |-- FoulType: string (nullable = true)\n",
      " |-- Fouler: string (nullable = true)\n",
      " |-- Fouled: string (nullable = true)\n",
      " |-- Rebounder: string (nullable = true)\n",
      " |-- ReboundType: integer (nullable = true)\n",
      " |-- ViolationPlayer: string (nullable = true)\n",
      " |-- ViolationType: string (nullable = true)\n",
      " |-- TimeoutTeam: string (nullable = true)\n",
      " |-- FreeThrowShooter: string (nullable = true)\n",
      " |-- FreeThrowOutcome: integer (nullable = true)\n",
      " |-- FreeThrowNum: string (nullable = true)\n",
      " |-- EnterGame: string (nullable = true)\n",
      " |-- LeaveGame: string (nullable = true)\n",
      " |-- TurnoverPlayer: string (nullable = true)\n",
      " |-- TurnoverType: string (nullable = true)\n",
      " |-- TurnoverCause: string (nullable = true)\n",
      " |-- TurnoverCauser: string (nullable = true)\n",
      " |-- JumpballAwayPlayer: string (nullable = true)\n",
      " |-- JumpballHomePlayer: string (nullable = true)\n",
      " |-- JumpballPoss: string (nullable = true)\n",
      "\n"
     ]
    },
    {
     "data": {
      "text/plain": [
       "None"
      ]
     },
     "metadata": {},
     "output_type": "display_data"
    },
    {
     "data": {
      "text/plain": [
       "[Row(Url='/boxscores/201810160BOS.html', GameType='regular', Location='TD Garden Boston Massachusetts', Date='October 16 2018', Time='8:00 PM', WinningTeam='BOS', Quarter=1, SecLeft=700, AwayTeam='PHI', AwayPlay='R. Covington misses 3-pt jump shot from 27 ft', AwayScore=0, HomeTeam='BOS', HomePlay=None, HomeScore=0, Shooter='R. Covington - covinro01', ShotType=None, ShotOutcome=0, ShotDist=None, Assister=None, Blocker=None, FoulType=None, Fouler=None, Fouled=None, Rebounder=None, ReboundType=None, ViolationPlayer=None, ViolationType=None, TimeoutTeam=None, FreeThrowShooter=None, FreeThrowOutcome=None, FreeThrowNum=None, EnterGame=None, LeaveGame=None, TurnoverPlayer=None, TurnoverType=None, TurnoverCause=None, TurnoverCauser=None, JumpballAwayPlayer=None, JumpballHomePlayer=None, JumpballPoss=None),\n",
       " Row(Url='/boxscores/201810160BOS.html', GameType='regular', Location='TD Garden Boston Massachusetts', Date='October 16 2018', Time='8:00 PM', WinningTeam='BOS', Quarter=1, SecLeft=700, AwayTeam='PHI', AwayPlay=None, AwayScore=0, HomeTeam='BOS', HomePlay='Defensive rebound by Team', HomeScore=0, Shooter=None, ShotType=None, ShotOutcome=None, ShotDist=None, Assister=None, Blocker=None, FoulType=None, Fouler=None, Fouled=None, Rebounder='Team', ReboundType=None, ViolationPlayer=None, ViolationType=None, TimeoutTeam=None, FreeThrowShooter=None, FreeThrowOutcome=None, FreeThrowNum=None, EnterGame=None, LeaveGame=None, TurnoverPlayer=None, TurnoverType=None, TurnoverCause=None, TurnoverCauser=None, JumpballAwayPlayer=None, JumpballHomePlayer=None, JumpballPoss=None)]"
      ]
     },
     "metadata": {},
     "output_type": "display_data"
    }
   ],
   "source": [
    "df_train = spark.read \\\n",
    "    .format('csv') \\\n",
    "    .option('header', True) \\\n",
    "    .schema(schema_data) \\\n",
    "    .load(f'{path_main}/clean_train_data/*')\n",
    "\n",
    "display(df_train.count())\n",
    "display(df_train.printSchema())\n",
    "display(df_train.head(2))"
   ]
  },
  {
   "cell_type": "code",
   "execution_count": 9,
   "metadata": {},
   "outputs": [
    {
     "data": {
      "text/plain": [
       "579310"
      ]
     },
     "metadata": {},
     "output_type": "display_data"
    },
    {
     "name": "stdout",
     "output_type": "stream",
     "text": [
      "root\n",
      " |-- Date: string (nullable = true)\n",
      " |-- HomeTeam: string (nullable = true)\n",
      " |-- AwayTeam: string (nullable = true)\n",
      " |-- Team: string (nullable = true)\n",
      " |-- Year: integer (nullable = true)\n",
      " |-- Won: integer (nullable = true)\n",
      " |-- ScoreDiff: integer (nullable = true)\n",
      " |-- Quarter: integer (nullable = true)\n",
      " |-- SecLeftTotal: integer (nullable = true)\n",
      " |-- HasPossession: integer (nullable = true)\n",
      "\n"
     ]
    },
    {
     "data": {
      "text/plain": [
       "None"
      ]
     },
     "metadata": {},
     "output_type": "display_data"
    },
    {
     "data": {
      "text/plain": [
       "[Row(Date='December 18 2016', HomeTeam='MEM', AwayTeam='UTA', Team='MEM', Year=2016, Won=0, ScoreDiff=0, Quarter=4, SecLeftTotal=297, HasPossession=1),\n",
       " Row(Date='December 18 2016', HomeTeam='MEM', AwayTeam='UTA', Team='MEM', Year=2016, Won=0, ScoreDiff=0, Quarter=4, SecLeftTotal=296, HasPossession=1)]"
      ]
     },
     "metadata": {},
     "output_type": "display_data"
    }
   ],
   "source": [
    "df_train = build_model_win_percent(df_train) \\\n",
    "    .where(F.col('SecLeftTotal') <= 300)\n",
    "\n",
    "display(df_train.count())\n",
    "display(df_train.printSchema())\n",
    "display(df_train.head(2))"
   ]
  },
  {
   "cell_type": "code",
   "execution_count": null,
   "metadata": {},
   "outputs": [],
   "source": [
    "df_test = spark.read \\\n",
    "    .format('csv') \\\n",
    "    .option('header', True) \\\n",
    "    .schema(schema_data) \\\n",
    "    .load(f'{path_main}/clean_test_data/*')\n",
    "\n",
    "display(df_test.count())\n",
    "display(df_test.printSchema())\n",
    "display(df_test.head(2))"
   ]
  },
  {
   "cell_type": "code",
   "execution_count": null,
   "metadata": {},
   "outputs": [],
   "source": [
    "df_test = build_model_win_percent(df_valid) \\\n",
    "    .where(F.col('SecLeftTotal') <= 300)\n",
    "\n",
    "display(df_test.count())\n",
    "display(df_test.printSchema())\n",
    "display(df_test.head(2))"
   ]
  },
  {
   "cell_type": "code",
   "execution_count": 10,
   "metadata": {},
   "outputs": [
    {
     "data": {
      "text/plain": [
       "'validation_results_0.csv'"
      ]
     },
     "execution_count": 10,
     "metadata": {},
     "output_type": "execute_result"
    }
   ],
   "source": [
    "valid_latest = os.listdir(f'{path_main}/models_validation')[-1]\n",
    "valid_latest"
   ]
  },
  {
   "cell_type": "code",
   "execution_count": 12,
   "metadata": {},
   "outputs": [],
   "source": [
    "schema_model = StructType([\n",
    "      StructField('Method', StringType())\n",
    "    , StructField('ROC', FloatType())\n",
    "    , StructField('HyperParameters', StringType())\n",
    "])"
   ]
  },
  {
   "cell_type": "code",
   "execution_count": 14,
   "metadata": {},
   "outputs": [
    {
     "data": {
      "text/plain": [
       "3"
      ]
     },
     "metadata": {},
     "output_type": "display_data"
    },
    {
     "name": "stdout",
     "output_type": "stream",
     "text": [
      "root\n",
      " |-- Method: string (nullable = true)\n",
      " |-- ROC: float (nullable = true)\n",
      " |-- HyperParameters: string (nullable = true)\n",
      "\n"
     ]
    },
    {
     "data": {
      "text/plain": [
       "None"
      ]
     },
     "metadata": {},
     "output_type": "display_data"
    },
    {
     "data": {
      "text/plain": [
       "[Row(Method='RandomForest', ROC=0.9272347092628479, HyperParameters='{\"maxBins\": 2, \"maxDepth\": 3, \"numTrees\": 100}'),\n",
       " Row(Method='LogisticRegression', ROC=0.926864504814148, HyperParameters='{\"maxIter\": 20, \"regParam\": 0.1}')]"
      ]
     },
     "metadata": {},
     "output_type": "display_data"
    }
   ],
   "source": [
    "validation_models = spark.read \\\n",
    "    .format('csv') \\\n",
    "    .option('header', False) \\\n",
    "    .schema(schema_model) \\\n",
    "    .load(f'{path_main}/models_validation/{valid_latest}')\n",
    "display(validation_models.count())\n",
    "display(validation_models.printSchema())\n",
    "display(validation_models.head(2))"
   ]
  },
  {
   "cell_type": "code",
   "execution_count": 39,
   "metadata": {},
   "outputs": [
    {
     "data": {
      "text/plain": [
       "[Row(Method='RandomForest', ROC=0.9272347092628479, HyperParameters='{\"maxBins\": 2, \"maxDepth\": 3, \"numTrees\": 100}')]"
      ]
     },
     "execution_count": 39,
     "metadata": {},
     "output_type": "execute_result"
    }
   ],
   "source": [
    "best_model = validation_models.orderBy(F.col('ROC'), ascending = False).take(1)\n",
    "best_model"
   ]
  },
  {
   "cell_type": "code",
   "execution_count": 15,
   "metadata": {},
   "outputs": [],
   "source": [
    "test_results = spark.createDataFrame({}, schema = schema_model)"
   ]
  },
  {
   "cell_type": "code",
   "execution_count": null,
   "metadata": {},
   "outputs": [],
   "source": [
    "pipeline = Pipeline(stages = [\n",
    "      VectorAssembler(\n",
    "          inputCols = MODEL_FEATURES\n",
    "        , outputCol = 'features')\n",
    "    , DICT_ML[best_model[0][0]](\n",
    "          featuresCol = 'features'\n",
    "        , labelCol = 'Won'\n",
    "        , **json.loads(best_model[0][2])\n",
    "    )\n",
    "])\n",
    "\n",
    "results = BinaryClassificationMetrics(pipeline\n",
    "    .fit(df_train)\n",
    "    .transform(df_valid)\n",
    "    .select(['Won', 'prediction'])\n",
    "    .rdd\n",
    "    .map(lambda x: (float(x[0]), x[1]))\n",
    ")\n",
    "\n",
    "valid_results = valid_results.union(spark.createDataFrame([(\n",
    "      best_model[0][0]\n",
    "    , results.areaUnderROC\n",
    "    , params\n",
    ")], schema_model))\n",
    "valid_results"
   ]
  }
 ],
 "metadata": {
  "kernelspec": {
   "display_name": "DS 5110 Spark 3.1",
   "language": "python",
   "name": "ds5110_spark3.1"
  },
  "language_info": {
   "codemirror_mode": {
    "name": "ipython",
    "version": 3
   },
   "file_extension": ".py",
   "mimetype": "text/x-python",
   "name": "python",
   "nbconvert_exporter": "python",
   "pygments_lexer": "ipython3",
   "version": "3.7.10"
  }
 },
 "nbformat": 4,
 "nbformat_minor": 4
}
