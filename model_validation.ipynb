{
 "cells": [
  {
   "cell_type": "code",
   "execution_count": null,
   "metadata": {},
   "outputs": [],
   "source": [
    "import os\n",
    "\n",
    "import numpy as np\n",
    "import pandas as pd\n",
    "import pyspark.sql.functions as F\n",
    "import regex as re\n",
    "\n",
    "from IPython.display import display\n",
    "from pyspark.ml.classification import GBTClassifier, LinearSVC, LogisticRegression, RandomForestClassifier\n",
    "from pyspark.sql import DataFrame, SparkSession\n",
    "from pyspark.sql.types import *\n",
    "from typing import *"
   ]
  },
  {
   "cell_type": "code",
   "execution_count": null,
   "metadata": {},
   "outputs": [],
   "source": [
    "spark = SparkSession \\\n",
    "    .builder \\\n",
    "    .appName('group2nba') \\\n",
    "    .getOrCreate()"
   ]
  },
  {
   "cell_type": "code",
   "execution_count": null,
   "metadata": {},
   "outputs": [],
   "source": [
    "path_main = '/project/ds5559/group2nba'\n",
    "\n",
    "T = TypeVar('T')"
   ]
  },
  {
   "cell_type": "code",
   "execution_count": null,
   "metadata": {},
   "outputs": [],
   "source": [
    "DICT_ML: Dict[str, T] = {\n",
    "      'GradientBoost': GBTClassifier\n",
    "    , 'LinearSVC': RandomForestClassifier\n",
    "    , 'LogisticRegression': LogisticRegression\n",
    "    , 'RandomForest': RandomForestClassifier\n",
    "}"
   ]
  },
  {
   "cell_type": "code",
   "execution_count": null,
   "metadata": {},
   "outputs": [],
   "source": [
    "cv_models = pd.read_csv(os.listdir(f'{path_main}/ml_models')[-1])"
   ]
  },
  {
   "cell_type": "code",
   "execution_count": null,
   "metadata": {},
   "outputs": [],
   "source": [
    "# example of setting up the model\n",
    "\n",
    "top_model = cv_models.order_values('ToBeDetermined', ascending = False).head(1)\n",
    "\n",
    "pipeline = PipeLine(stages = [\n",
    "      VectorAssembler(...)\n",
    "    , ML_METHODS[top_model.Model](featuresCol = 'features', labelCol = 'Won', **json.loads(top_model.HyperParameters))\n",
    "])"
   ]
  }
 ],
 "metadata": {
  "language_info": {
   "name": "python"
  },
  "orig_nbformat": 4
 },
 "nbformat": 4,
 "nbformat_minor": 2
}
